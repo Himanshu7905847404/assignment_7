{
 "cells": [
  {
   "cell_type": "code",
   "execution_count": 1,
   "id": "f07849c2-6cf5-489d-8b30-20aad240f400",
   "metadata": {},
   "outputs": [],
   "source": [
    "#Solution"
   ]
  },
  {
   "cell_type": "code",
   "execution_count": 38,
   "id": "fd7fa06a-0c43-4b59-b92a-ea0aed6d33b1",
   "metadata": {},
   "outputs": [],
   "source": [
    "#Q1.\n",
    "\n",
    "list1 = [1,2,3,4, [44,55,66, True], False, (34,56,78,89,34), {1,2,3,3,2,1}, {1:34, \"key2\": [55, 67, 78, 89], 4: (45,\n",
    "22, 61, 34)}, [56, 'data science'], 'Machine Learning']\n",
    "\n",
    "\n",
    "def product(list1):\n",
    "    l=[]\n",
    "    for i in list1:\n",
    "        if type(i)==int:\n",
    "            l.append(i)\n",
    "        elif (type(i)==list or type(i)==tuple or type(i)==set):\n",
    "            x1=[]\n",
    "            for j in i:\n",
    "                if type(j)==int:\n",
    "                    x1.append(j)\n",
    "            l.extend(x1)\n",
    "        elif type(i)==dict:\n",
    "            x=[p for p in i.keys()]\n",
    "            \n",
    "            y= [p for p in i.values()]\n",
    "            h=[]\n",
    "            for j in x:\n",
    "                \n",
    "                if type(j)==int:\n",
    "                    h.append(j)\n",
    "             \n",
    "                elif (type(j)==list or type(j)==tuple):\n",
    "                    h2=[]\n",
    "                    for k in j:\n",
    "                        if type(k)==int:\n",
    "                            h2.append(k)\n",
    "                    h.extend(h2)\n",
    "            l.extend(h)\n",
    "                \n",
    "            for j in y:\n",
    "                h1=[]\n",
    "                if type(j)==int:\n",
    "                    h1.append(j)\n",
    "                elif (type(j)==list or type(j)==tuple):\n",
    "                    x2=[]\n",
    "                    for k in j:\n",
    "                        if type(k)==int:\n",
    "                            x2.append(k)\n",
    "                    h1.extend(x2)\n",
    "                l.extend(h1)\n",
    "                  \n",
    "              \n",
    "                \n",
    "    print(\"The numeric list:\",l)\n",
    "    product1 = 1\n",
    "    for i in l:\n",
    "        product1*=i\n",
    "    return product1"
   ]
  },
  {
   "cell_type": "code",
   "execution_count": 39,
   "id": "3be0287d-9906-4766-bbcb-5cde4492ac09",
   "metadata": {},
   "outputs": [
    {
     "name": "stdout",
     "output_type": "stream",
     "text": [
      "The numeric list: [1, 2, 3, 4, 44, 55, 66, 34, 56, 78, 89, 34, 1, 2, 3, 1, 4, 34, 55, 67, 78, 89, 45, 22, 61, 34, 56]\n",
      "Product of each numeric value of the list 4134711838987085478833841242112000\n"
     ]
    }
   ],
   "source": [
    "print(\"Product of each numeric value of the list\",product(list1))"
   ]
  },
  {
   "cell_type": "code",
   "execution_count": 43,
   "id": "f0eb23d9-3d05-4581-ab3b-5cfa1cc33e03",
   "metadata": {},
   "outputs": [
    {
     "name": "stdout",
     "output_type": "stream",
     "text": [
      "\n",
      "\tBefore encryption of message\n",
      ": I want to become a Data Scientist\n",
      "\n",
      "\tafter encryption of message\n",
      ":  i$wznt$to$yexome$z$dztz$sxientist\n"
     ]
    }
   ],
   "source": [
    "#Q2.\n",
    "string = \"I want to become a Data Scientist\"\n",
    "print(\"\\n\\tBefore encryption of message is \\n:\",string)\n",
    "list1 = list(string)\n",
    "for i in range(len(list1)):\n",
    "    if list1[i]=='a':\n",
    "        list1[i]='z'\n",
    "    elif list1[i]=='b':\n",
    "        list1[i]='y'\n",
    "    elif list1[i]=='c':\n",
    "        list1[i]='x'\n",
    "    elif list1[i]==' ':\n",
    "        list1[i]='$'\n",
    "string1 = ' '\n",
    "for i in list1:\n",
    "    string1+=i\n",
    "print(\"\\n\\tafter encryption of message\\n:\",string1.casefold())\n",
    "\n",
    "    \n",
    "    \n",
    "    "
   ]
  },
  {
   "cell_type": "code",
   "execution_count": null,
   "id": "dedd1133-d970-474e-8bb4-155a6c81c8c8",
   "metadata": {},
   "outputs": [],
   "source": []
  }
 ],
 "metadata": {
  "kernelspec": {
   "display_name": "Python 3 (ipykernel)",
   "language": "python",
   "name": "python3"
  },
  "language_info": {
   "codemirror_mode": {
    "name": "ipython",
    "version": 3
   },
   "file_extension": ".py",
   "mimetype": "text/x-python",
   "name": "python",
   "nbconvert_exporter": "python",
   "pygments_lexer": "ipython3",
   "version": "3.10.8"
  }
 },
 "nbformat": 4,
 "nbformat_minor": 5
}
